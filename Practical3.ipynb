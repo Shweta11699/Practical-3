{
  "nbformat": 4,
  "nbformat_minor": 0,
  "metadata": {
    "colab": {
      "name": "Practical3.ipynb",
      "provenance": []
    },
    "kernelspec": {
      "name": "python3",
      "display_name": "Python 3"
    },
    "language_info": {
      "name": "python"
    }
  },
  "cells": [
    {
      "cell_type": "markdown",
      "source": [
        "Different Arithmatic Opearations on numbers in python"
      ],
      "metadata": {
        "id": "yea_VkGr6LpD"
      }
    },
    {
      "cell_type": "code",
      "source": [
        "num1 = float(input(\" Please Enter the First Value Number 1: \"))\n",
        "num2 = float(input(\" Please Enter the Second Value Number 2: \"))\n",
        "\n",
        "# Add Two Numbers\n",
        "add = num1 + num2\n",
        "\n",
        "# Subtracting num2 from num1\n",
        "sub = num1 - num2\n",
        "\n",
        "# Multiply num1 with num2\n",
        "multi = num1 * num2\n",
        "\n",
        "# Divide num1 by num2\n",
        "div = num1 / num2\n",
        "\n",
        "# Modulus of num1 and num2\n",
        "mod = num1 % num2\n",
        "\n",
        "# Exponent of num1 and num2\n",
        "expo = num1 ** num2\n",
        "\n",
        "print(\"The Sum of {0} and {1} = {2}\".format(num1, num2, add))\n",
        "print(\"The Subtraction of {0} from {1} = {2}\".format(num2, num1, sub))\n",
        "print(\"The Multiplication of {0} and {1} = {2}\".format(num1, num2, multi))\n",
        "print(\"The Division of {0} and {1} = {2}\".format(num1, num2, div))\n",
        "print(\"The Modulus of {0} and {1} = {2}\".format(num1, num2, mod))\n",
        "print(\"The Exponent Value of {0} and {1} = {2}\".format(num1, num2, expo))"
      ],
      "metadata": {
        "colab": {
          "base_uri": "https://localhost:8080/"
        },
        "id": "nV2VogM_6OMw",
        "outputId": "a97ac265-d523-4467-a6c3-1a63a27c1bc2"
      },
      "execution_count": 2,
      "outputs": [
        {
          "output_type": "stream",
          "name": "stdout",
          "text": [
            " Please Enter the First Value Number 1: 12\n",
            " Please Enter the Second Value Number 2: 45\n",
            "The Sum of 12.0 and 45.0 = 57.0\n",
            "The Subtraction of 45.0 from 12.0 = -33.0\n",
            "The Multiplication of 12.0 and 45.0 = 540.0\n",
            "The Division of 12.0 and 45.0 = 0.26666666666666666\n",
            "The Modulus of 12.0 and 45.0 = 12.0\n",
            "The Exponent Value of 12.0 and 45.0 = 3.657261988008837e+48\n"
          ]
        }
      ]
    }
  ]
}